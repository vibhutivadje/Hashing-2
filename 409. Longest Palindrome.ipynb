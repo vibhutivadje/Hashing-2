{
 "cells": [
  {
   "cell_type": "markdown",
   "metadata": {},
   "source": [
    "Given a string s which consists of lowercase or uppercase letters, return the length of the longest palindrome that \n",
    "can be built with those letters.\n",
    "\n",
    "Letters are case sensitive, for example, \"Aa\" is not considered a palindrome here.\n",
    "\n",
    "Example 1:\n",
    "    Input: s = \"abccccdd\"\n",
    "    Output: 7\n",
    "    Explanation:\n",
    "    One longest palindrome that can be built is \"dccaccd\", whose length is 7.\n"
   ]
  },
  {
   "cell_type": "code",
   "execution_count": 3,
   "metadata": {},
   "outputs": [
    {
     "data": {
      "text/plain": [
       "7"
      ]
     },
     "execution_count": 3,
     "metadata": {},
     "output_type": "execute_result"
    }
   ],
   "source": [
    "class solution:\n",
    "    def longestpalindrome(s):\n",
    "      \n",
    "    \n",
    "        if s is None or len(s)==0:\n",
    "            return False\n",
    "        \n",
    "        hashset = set()\n",
    "        count = 0\n",
    "        \n",
    "        for i in range(len(s)):\n",
    "            char = s[i]\n",
    "            \n",
    "            if char in hashset:\n",
    "                hashset.remove(char)\n",
    "                count +=2\n",
    "            else:\n",
    "                hashset.add(char)\n",
    "         \n",
    "        if hashset:\n",
    "            count += 1\n",
    "            \n",
    "        return count\n",
    "        \n",
    "obj = solution\n",
    "obj.longestpalindrome(s='abccccdd')"
   ]
  },
  {
   "cell_type": "code",
   "execution_count": null,
   "metadata": {},
   "outputs": [],
   "source": []
  }
 ],
 "metadata": {
  "kernelspec": {
   "display_name": "Python 3",
   "language": "python",
   "name": "python3"
  },
  "language_info": {
   "codemirror_mode": {
    "name": "ipython",
    "version": 3
   },
   "file_extension": ".py",
   "mimetype": "text/x-python",
   "name": "python",
   "nbconvert_exporter": "python",
   "pygments_lexer": "ipython3",
   "version": "3.7.7"
  }
 },
 "nbformat": 4,
 "nbformat_minor": 4
}
